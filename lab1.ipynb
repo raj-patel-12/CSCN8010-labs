{
 "cells": [
  {
   "cell_type": "markdown",
   "metadata": {},
   "source": [
    "# Lab 1\n",
    "\n",
    "## Introduction\n",
    "\n",
    "### Part 1\n",
    "\n",
    "I think this is the **correct** cell.\n",
    "\n",
    "This is a <sub>1</sub> text.\n",
    "\n",
    "[Click Me](https://www.google.com)\n",
    "\n",
    "![This is the logo](Googlelogo.png)\n",
    "\n",
    "This is the list of items I need to buy:\n",
    "\n",
    "* Apples\n",
    "* Oranges\n",
    "* Bananas\n",
    "\n",
    "\n",
    "This is a table:\n",
    "\n",
    "| Header 1 | Header 2 |\n",
    "|----------|----------|\n",
    "| Item 1   | Item 2   \n"
   ]
  },
  {
   "cell_type": "markdown",
   "metadata": {},
   "source": []
  },
  {
   "cell_type": "markdown",
   "metadata": {},
   "source": []
  }
 ],
 "metadata": {
  "language_info": {
   "name": "python"
  }
 },
 "nbformat": 4,
 "nbformat_minor": 2
}
